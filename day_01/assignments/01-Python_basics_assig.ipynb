{
 "cells": [
  {
   "cell_type": "markdown",
   "metadata": {},
   "source": [
    "# Python Basic exercises"
   ]
  },
  {
   "cell_type": "markdown",
   "metadata": {},
   "source": [
    "## Scalar assignment\n",
    "\n",
    "- Assign the number `100` to a variable named `x` multiply it by `4`, then assign `x` to a variable named `y` and substract it by `20`"
   ]
  },
  {
   "cell_type": "code",
   "execution_count": null,
   "metadata": {},
   "outputs": [],
   "source": [
    "# your code here"
   ]
  },
  {
   "cell_type": "markdown",
   "metadata": {},
   "source": [
    "Q: Does the variable `x` changes after we substract it by `20` and why?"
   ]
  },
  {
   "cell_type": "markdown",
   "metadata": {},
   "source": [
    "## INPUT/OUTPUT"
   ]
  },
  {
   "cell_type": "markdown",
   "metadata": {},
   "source": [
    "### Exercice 1:\n",
    "\n",
    "Create a program that take a name from a user and print hello with the name of the user.\n",
    "\n",
    "Example:\n",
    "- input:\n",
    "\n",
    "```python\n",
    ">>> Hamid\n",
    "```\n",
    "- Desired output:\n",
    "\n",
    "```python\n",
    ">>> Hello Hamid\n",
    "```\n"
   ]
  },
  {
   "cell_type": "code",
   "execution_count": 2,
   "metadata": {},
   "outputs": [
    {
     "name": "stdout",
     "output_type": "stream",
     "text": [
      "Enter your name Nouredine\n",
      "hello Nouredine\n"
     ]
    }
   ],
   "source": [
    "# your code here"
   ]
  },
  {
   "cell_type": "markdown",
   "metadata": {},
   "source": [
    "### Exercise 3:\n",
    "\n",
    "Create a program that take a two numbers from a user and print their sum and multiplication.\n",
    "Example:\n",
    "\n",
    "- Input:\n",
    "```python\n",
    ">>> 3\n",
    ">>> 4\n",
    "```\n",
    "- Desired output:\n",
    "```python\n",
    ">>> multiplication of 3 and 4 is 12\n",
    ">>> sum of 3 and 4 is 7\n",
    "```\n"
   ]
  },
  {
   "cell_type": "code",
   "execution_count": 3,
   "metadata": {},
   "outputs": [],
   "source": [
    "# your code here"
   ]
  },
  {
   "cell_type": "markdown",
   "metadata": {},
   "source": [
    "### Exercise 4: \n",
    "\n",
    "Display three string “Name”, “Is”, “James” as `Name**Is**James`\n",
    "\n",
    "Use the `print()` function to format the given words in the mentioned format. Display the ** separator between each string.\n"
   ]
  },
  {
   "cell_type": "code",
   "execution_count": 4,
   "metadata": {},
   "outputs": [],
   "source": [
    "# your code here"
   ]
  },
  {
   "cell_type": "markdown",
   "metadata": {},
   "source": [
    "## Conditional Statements"
   ]
  },
  {
   "cell_type": "markdown",
   "metadata": {},
   "source": [
    "### Exercise 1:\n",
    "Create a program that take a number from a user and check if it's pair or unpair."
   ]
  },
  {
   "cell_type": "code",
   "execution_count": null,
   "metadata": {},
   "outputs": [],
   "source": [
    "# code here"
   ]
  },
  {
   "cell_type": "markdown",
   "metadata": {},
   "source": [
    "### Exercise 2:\n",
    "Create a program that take two numbers `a` and `b` from a user and if:\n",
    "- `a` > `b` print `a is bigger than b`\n",
    "- `a` < `b` print `b is bigger than a`\n",
    "- `a` == `b` print `a is equal to b`"
   ]
  },
  {
   "cell_type": "code",
   "execution_count": null,
   "metadata": {},
   "outputs": [],
   "source": [
    "# code here"
   ]
  },
  {
   "cell_type": "markdown",
   "metadata": {},
   "source": [
    "## LOOPS"
   ]
  },
  {
   "cell_type": "markdown",
   "metadata": {},
   "source": [
    "### EX1:\n",
    "\n",
    "Write a program that prints numbers from 1 to 100 and if:\n",
    "- the number is a multiplier of `3` we print `Foo`\n",
    "- the number is a multiplier of `5` we print `Bar`\n",
    "- the number is a multiplier of `3` and `5` we print `FooBar`"
   ]
  },
  {
   "cell_type": "code",
   "execution_count": null,
   "metadata": {},
   "outputs": [],
   "source": [
    "# Code here"
   ]
  },
  {
   "cell_type": "markdown",
   "metadata": {},
   "source": [
    "### EX2:\n",
    "\n",
    "Write a program that take a string from a user, and print the string with capitalize the vowels letters {a, o, u, i, e}.\n",
    "\n",
    "Example:\n",
    "- Input:\n",
    "\n",
    "```python\n",
    ">>> hello world\n",
    "```\n",
    "\n",
    "- Desired output:\n",
    "\n",
    "```python\n",
    ">>> hEllO wOrld\n",
    "```"
   ]
  },
  {
   "cell_type": "markdown",
   "metadata": {},
   "source": [
    "### EX3\n",
    "\n",
    "Write a program that takes a number `n` and iterate from `0` to `n` while:\n",
    "- each time you find a multiplier of `4` you divide the total iterations by `2`"
   ]
  },
  {
   "cell_type": "code",
   "execution_count": null,
   "metadata": {},
   "outputs": [],
   "source": [
    "# code Here"
   ]
  }
 ],
 "metadata": {
  "hide_input": false,
  "kernelspec": {
   "display_name": "Python 3",
   "language": "python",
   "name": "python3"
  },
  "language_info": {
   "codemirror_mode": {
    "name": "ipython",
    "version": 3
   },
   "file_extension": ".py",
   "mimetype": "text/x-python",
   "name": "python",
   "nbconvert_exporter": "python",
   "pygments_lexer": "ipython3",
   "version": "3.6.9"
  },
  "vscode": {
   "interpreter": {
    "hash": "916dbcbb3f70747c44a77c7bcd40155683ae19c65e1c03b4aa3499c5328201f1"
   }
  }
 },
 "nbformat": 4,
 "nbformat_minor": 5
}
